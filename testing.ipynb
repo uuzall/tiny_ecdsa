{
 "cells": [
  {
   "cell_type": "code",
   "execution_count": 1,
   "metadata": {},
   "outputs": [],
   "source": [
    "import matplotlib.pyplot as plt \n",
    "import numpy as np "
   ]
  },
  {
   "cell_type": "code",
   "execution_count": 105,
   "metadata": {},
   "outputs": [],
   "source": [
    "def legendre_symbol(a, p):\n",
    "    \"\"\"\n",
    "    Calculate the Legendre symbol (a|p).\n",
    "\n",
    "    Args:\n",
    "        a: An integer.\n",
    "        p: An odd prime number.\n",
    "\n",
    "    Returns:\n",
    "        0 if a is divisible by p.\n",
    "        1 if a is a quadratic residue modulo p.\n",
    "        -1 if a is a quadratic non-residue modulo p.\n",
    "    \"\"\"\n",
    "    # a %= p\n",
    "    # if a == 0:\n",
    "    #     return 0\n",
    "    # if a == 1:\n",
    "    #     return 1\n",
    "\n",
    "    # if a % 2 == 0:\n",
    "    #     return legendre_symbol(a // 2, p) * (-1)**((p**2 - 1) // 8)\n",
    "    # else:\n",
    "    #     return legendre_symbol(p % a, a) * (-1)**((a - 1) * (p - 1) // 4)\n",
    "    return pow(a, (p - 1) // 2, p)\n",
    "\n",
    "def tonelli(n, p): \n",
    "  q = p - 1\n",
    "  s = 0 \n",
    "  while q % 2 == 0: \n",
    "    q //= 2 \n",
    "    s += 1 \n",
    "  if s == 1: \n",
    "    return pow(n, (p+1) // 4, p)\n",
    "  for z in range(2, p): \n",
    "    if p-1 == legendre_symbol(z, p): \n",
    "      break \n",
    "  c = pow(z, q, p) \n",
    "  r = pow(n, (q+1) // 2, p) \n",
    "  t = pow(n, q, p)\n",
    "  m = s \n",
    "  t2 = 0 \n",
    "\n",
    "  while (t-1) % p != 0: \n",
    "    t2 = (t*t) % p \n",
    "    for i in range(1, m): \n",
    "      if (t2 - 1) % p == 0: \n",
    "        break \n",
    "      t2 = (t2 * t2) % p \n",
    "    b = pow(c, 1 << (m - i - 1), p)\n",
    "    r = (r * b) % p \n",
    "    c = (b * b) % p \n",
    "    t = (t * c) % p \n",
    "    m = i \n",
    "  return r "
   ]
  },
  {
   "cell_type": "code",
   "execution_count": null,
   "metadata": {},
   "outputs": [],
   "source": [
    "# y^2 = x^3 + a*x + b mod p \n",
    "\n",
    "a = 0\n",
    "b = 3\n",
    "p = 23\n",
    "\n",
    "x = np.arange(p)"
   ]
  },
  {
   "cell_type": "code",
   "execution_count": 144,
   "metadata": {},
   "outputs": [],
   "source": [
    "def quadratic_residues(p): \n",
    "  y = list() \n",
    "  for i in range(p): \n",
    "    y.append(i**2 % p)\n",
    "  return set(y)"
   ]
  },
  {
   "cell_type": "code",
   "execution_count": null,
   "metadata": {},
   "outputs": [
    {
     "name": "stdout",
     "output_type": "stream",
     "text": [
      "-3888\n",
      "{0, 1, 2, 3, 4, 6, 8, 9, 12, 13, 16, 18}\n"
     ]
    }
   ],
   "source": [
    "print(-16 * (4 * a**3 + 27 * b**2))\n",
    "# x**3 + a*x + b\n",
    "# y_sq = (np.power(x, 3)%p + (a*x)%p + b%p) % p\n",
    "\n",
    "coords = list()\n",
    "qr = quadratic_residues(p)\n",
    "print(qr)\n",
    "for i in range(p): \n",
    "  out = (i**3 + a*i + b) % p\n",
    "  if out in qr: \n",
    "    # print(i, out)\n",
    "    sq_root = tonelli(out, p)\n",
    "    coords.append([i, sq_root])\n",
    "    coords.append([i, p - sq_root])\n",
    "\n",
    "  # quadratic residue check \n",
    "  # l_s = legendre_symbol(out, p)\n",
    "  # 3 ** (5-1)//2\n",
    "  # print(i, out, l_s)\n",
    "  # if l_s == 1: \n",
    "  #   # identifying square roots. \n",
    "  #   sq_root = tonelli(l_s, p)\n",
    "  #   # sq_root = tonellishanks(l_s, p)\n",
    "  #   coords.append([i, sq_root])\n",
    "  #   coords.append([i, p - sq_root])\n",
    "\n",
    "# y = np.sqrt(x**3 - x) % p\n",
    "\n",
    "# plt.scatter(x, y)"
   ]
  },
  {
   "cell_type": "code",
   "execution_count": 146,
   "metadata": {},
   "outputs": [
    {
     "data": {
      "text/plain": [
       "<matplotlib.collections.PathCollection at 0x10ff0a770>"
      ]
     },
     "execution_count": 146,
     "metadata": {},
     "output_type": "execute_result"
    },
    {
     "data": {
      "image/png": "[encoded data removed]",
      "text/plain": [
       "<Figure size 640x480 with 1 Axes>"
      ]
     },
     "metadata": {},
     "output_type": "display_data"
    }
   ],
   "source": [
    "plt.scatter(np.asarray(coords)[:, 0], np.asarray(coords)[:, 1])"
   ]
  },
  {
   "cell_type": "code",
   "execution_count": 88,
   "metadata": {},
   "outputs": [],
   "source": [
    "from tonellishanks import tonellishanks"
   ]
  },
  {
   "cell_type": "code",
   "execution_count": 95,
   "metadata": {},
   "outputs": [
    {
     "data": {
      "text/plain": [
       "1"
      ]
     },
     "execution_count": 95,
     "metadata": {},
     "output_type": "execute_result"
    }
   ],
   "source": [
    "tonellishanks(l_s, p)"
   ]
  },
  {
   "cell_type": "code",
   "execution_count": null,
   "metadata": {},
   "outputs": [
    {
     "ename": "ValueError",
     "evalue": "negative shift count",
     "output_type": "error",
     "traceback": [
      "\u001b[0;31m---------------------------------------------------------------------------\u001b[0m",
      "\u001b[0;31mValueError\u001b[0m                                Traceback (most recent call last)",
      "Cell \u001b[0;32mIn[85], line 36\u001b[0m\n\u001b[1;32m     32\u001b[0m     ttest \u001b[38;5;241m=\u001b[39m [(\u001b[38;5;241m10\u001b[39m, \u001b[38;5;241m13\u001b[39m), (\u001b[38;5;241m56\u001b[39m, \u001b[38;5;241m101\u001b[39m), (\u001b[38;5;241m1030\u001b[39m, \u001b[38;5;241m10009\u001b[39m), (\u001b[38;5;241m44402\u001b[39m, \u001b[38;5;241m100049\u001b[39m),\n\u001b[1;32m     33\u001b[0m \t     (\u001b[38;5;241m665820697\u001b[39m, \u001b[38;5;241m1000000009\u001b[39m), (\u001b[38;5;241m881398088036\u001b[39m, \u001b[38;5;241m1000000000039\u001b[39m),\n\u001b[1;32m     34\u001b[0m              (\u001b[38;5;241m41660815127637347468140745042827704103445750172002\u001b[39m, \u001b[38;5;241m10\u001b[39m\u001b[38;5;241m*\u001b[39m\u001b[38;5;241m*\u001b[39m\u001b[38;5;241m50\u001b[39m \u001b[38;5;241m+\u001b[39m \u001b[38;5;241m577\u001b[39m)]\n\u001b[1;32m     35\u001b[0m     \u001b[38;5;28;01mfor\u001b[39;00m n, p \u001b[38;5;129;01min\u001b[39;00m ttest:\n\u001b[0;32m---> 36\u001b[0m         r \u001b[38;5;241m=\u001b[39m \u001b[43mtonelli\u001b[49m\u001b[43m(\u001b[49m\u001b[43mn\u001b[49m\u001b[43m,\u001b[49m\u001b[43m \u001b[49m\u001b[43mp\u001b[49m\u001b[43m)\u001b[49m\n\u001b[1;32m     37\u001b[0m         \u001b[38;5;28;01massert\u001b[39;00m (r \u001b[38;5;241m*\u001b[39m r \u001b[38;5;241m-\u001b[39m n) \u001b[38;5;241m%\u001b[39m p \u001b[38;5;241m==\u001b[39m \u001b[38;5;241m0\u001b[39m\n\u001b[1;32m     38\u001b[0m         \u001b[38;5;28mprint\u001b[39m(\u001b[38;5;124m\"\u001b[39m\u001b[38;5;124mn = \u001b[39m\u001b[38;5;132;01m%d\u001b[39;00m\u001b[38;5;124m p = \u001b[39m\u001b[38;5;132;01m%d\u001b[39;00m\u001b[38;5;124m\"\u001b[39m \u001b[38;5;241m%\u001b[39m (n, p))\n",
      "Cell \u001b[0;32mIn[85], line 24\u001b[0m, in \u001b[0;36mtonelli\u001b[0;34m(n, p)\u001b[0m\n\u001b[1;32m     22\u001b[0m         \u001b[38;5;28;01mbreak\u001b[39;00m\n\u001b[1;32m     23\u001b[0m     t2 \u001b[38;5;241m=\u001b[39m (t2 \u001b[38;5;241m*\u001b[39m t2) \u001b[38;5;241m%\u001b[39m p\n\u001b[0;32m---> 24\u001b[0m b \u001b[38;5;241m=\u001b[39m \u001b[38;5;28mpow\u001b[39m(c, \u001b[38;5;241;43m1\u001b[39;49m\u001b[43m \u001b[49m\u001b[38;5;241;43m<<\u001b[39;49m\u001b[43m \u001b[49m\u001b[43m(\u001b[49m\u001b[43mm\u001b[49m\u001b[43m \u001b[49m\u001b[38;5;241;43m-\u001b[39;49m\u001b[43m \u001b[49m\u001b[43mi\u001b[49m\u001b[43m \u001b[49m\u001b[38;5;241;43m-\u001b[39;49m\u001b[43m \u001b[49m\u001b[38;5;241;43m1\u001b[39;49m\u001b[43m)\u001b[49m, p)\n\u001b[1;32m     25\u001b[0m r \u001b[38;5;241m=\u001b[39m (r \u001b[38;5;241m*\u001b[39m b) \u001b[38;5;241m%\u001b[39m p\n\u001b[1;32m     26\u001b[0m c \u001b[38;5;241m=\u001b[39m (b \u001b[38;5;241m*\u001b[39m b) \u001b[38;5;241m%\u001b[39m p\n",
      "\u001b[0;31mValueError\u001b[0m: negative shift count"
     ]
    }
   ],
   "source": [
    "def tonelli(n, p):\n",
    "    assert legendre_symbol(n, p) == 1, \"not a square (mod p)\"\n",
    "    q = p - 1\n",
    "    s = 0\n",
    "    while q % 2 == 0:\n",
    "        q //= 2\n",
    "        s += 1\n",
    "    if s == 1:\n",
    "        return pow(n, (p + 1) // 4, p)\n",
    "    for z in range(2, p):\n",
    "        if p - 1 == legendre_symbol(z, p):\n",
    "            break\n",
    "    c = pow(z, q, p)\n",
    "    r = pow(n, (q + 1) // 2, p)\n",
    "    t = pow(n, q, p)\n",
    "    m = s\n",
    "    t2 = 0\n",
    "    while (t - 1) % p != 0:\n",
    "        t2 = (t * t) % p\n",
    "        for i in range(1, m):\n",
    "            if (t2 - 1) % p == 0:\n",
    "                break\n",
    "            t2 = (t2 * t2) % p\n",
    "        b = pow(c, 1 << (m - i - 1), p)\n",
    "        r = (r * b) % p\n",
    "        c = (b * b) % p\n",
    "        t = (t * c) % p\n",
    "        m = i\n",
    "    return r\n",
    "\n",
    "if __name__ == '__main__':\n",
    "    ttest = [(10, 13), (56, 101), (1030, 10009), (44402, 100049),\n",
    "\t     (665820697, 1000000009), (881398088036, 1000000000039),\n",
    "             (41660815127637347468140745042827704103445750172002, 10**50 + 577)]\n",
    "    for n, p in ttest:\n",
    "        r = tonelli(n, p)\n",
    "        assert (r * r - n) % p == 0\n",
    "        print(\"n = %d p = %d\" % (n, p))\n",
    "        print(\"\\t  roots : %d %d\" % (r, p - r))"
   ]
  },
  {
   "cell_type": "code",
   "execution_count": 83,
   "metadata": {},
   "outputs": [
    {
     "ename": "ValueError",
     "evalue": "negative shift count",
     "output_type": "error",
     "traceback": [
      "\u001b[0;31m---------------------------------------------------------------------------\u001b[0m",
      "\u001b[0;31mValueError\u001b[0m                                Traceback (most recent call last)",
      "Cell \u001b[0;32mIn[83], line 1\u001b[0m\n\u001b[0;32m----> 1\u001b[0m \u001b[43mtonelli\u001b[49m\u001b[43m(\u001b[49m\u001b[38;5;241;43m10\u001b[39;49m\u001b[43m,\u001b[49m\u001b[43m \u001b[49m\u001b[38;5;241;43m13\u001b[39;49m\u001b[43m)\u001b[49m\n",
      "Cell \u001b[0;32mIn[72], line 48\u001b[0m, in \u001b[0;36mtonelli\u001b[0;34m(n, p)\u001b[0m\n\u001b[1;32m     46\u001b[0m     \u001b[38;5;28;01mbreak\u001b[39;00m \n\u001b[1;32m     47\u001b[0m   t2 \u001b[38;5;241m=\u001b[39m (t2 \u001b[38;5;241m*\u001b[39m t2) \u001b[38;5;241m%\u001b[39m p \n\u001b[0;32m---> 48\u001b[0m b \u001b[38;5;241m=\u001b[39m \u001b[38;5;28mpow\u001b[39m(c, \u001b[38;5;241;43m1\u001b[39;49m\u001b[43m \u001b[49m\u001b[38;5;241;43m<<\u001b[39;49m\u001b[43m \u001b[49m\u001b[43m(\u001b[49m\u001b[43mm\u001b[49m\u001b[43m \u001b[49m\u001b[38;5;241;43m-\u001b[39;49m\u001b[43m \u001b[49m\u001b[43mi\u001b[49m\u001b[43m \u001b[49m\u001b[38;5;241;43m-\u001b[39;49m\u001b[43m \u001b[49m\u001b[38;5;241;43m1\u001b[39;49m\u001b[43m)\u001b[49m, p)\n\u001b[1;32m     49\u001b[0m r \u001b[38;5;241m=\u001b[39m (r \u001b[38;5;241m*\u001b[39m b) \u001b[38;5;241m%\u001b[39m p \n\u001b[1;32m     50\u001b[0m c \u001b[38;5;241m=\u001b[39m (b \u001b[38;5;241m*\u001b[39m b) \u001b[38;5;241m%\u001b[39m p \n",
      "\u001b[0;31mValueError\u001b[0m: negative shift count"
     ]
    }
   ],
   "source": [
    "tonelli(10, 13)"
   ]
  },
  {
   "cell_type": "code",
   "execution_count": 82,
   "metadata": {},
   "outputs": [
    {
     "data": {
      "text/plain": [
       "[[0, 1],\n",
       " [0, 22],\n",
       " [1, 1],\n",
       " [1, 22],\n",
       " [5, 1],\n",
       " [5, 22],\n",
       " [6, 1],\n",
       " [6, 22],\n",
       " [7, 1],\n",
       " [7, 22],\n",
       " [8, 1],\n",
       " [8, 22],\n",
       " [12, 1],\n",
       " [12, 22],\n",
       " [18, 1],\n",
       " [18, 22],\n",
       " [19, 1],\n",
       " [19, 22],\n",
       " [21, 1],\n",
       " [21, 22],\n",
       " [22, 1],\n",
       " [22, 22]]"
      ]
     },
     "execution_count": 82,
     "metadata": {},
     "output_type": "execute_result"
    }
   ],
   "source": [
    "coords"
   ]
  },
  {
   "cell_type": "code",
   "execution_count": null,
   "metadata": {},
   "outputs": [
    {
     "data": {
      "text/plain": [
       "<matplotlib.collections.PathCollection at 0x10f97b2e0>"
      ]
     },
     "execution_count": 47,
     "metadata": {},
     "output_type": "execute_result"
    },
    {
     "data": {
      "image/png": "[encoded data removed]",
      "text/plain": [
       "<Figure size 640x480 with 1 Axes>"
      ]
     },
     "metadata": {},
     "output_type": "display_data"
    }
   ],
   "source": []
  },
  {
   "cell_type": "code",
   "execution_count": null,
   "metadata": {},
   "outputs": [],
   "source": []
  }
 ],
 "metadata": {
  "kernelspec": {
   "display_name": "AI310",
   "language": "python",
   "name": "python3"
  },
  "language_info": {
   "codemirror_mode": {
    "name": "ipython",
    "version": 3
   },
   "file_extension": ".py",
   "mimetype": "text/x-python",
   "name": "python",
   "nbconvert_exporter": "python",
   "pygments_lexer": "ipython3",
   "version": "3.10.16"
  }
 },
 "nbformat": 4,
 "nbformat_minor": 2
}
