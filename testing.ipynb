{
 "cells": [
  {
   "cell_type": "code",
   "execution_count": 1,
   "metadata": {},
   "outputs": [],
   "source": [
    "import matplotlib.pyplot as plt \n",
    "import numpy as np "
   ]
  },
  {
   "cell_type": "code",
   "execution_count": null,
   "metadata": {},
   "outputs": [],
   "source": [
    "def legendre_symbol(a, p):\n",
    "  return pow(a, (p - 1) // 2, p)\n",
    "\n",
    "def tonelli(n, p): \n",
    "  q = p - 1\n",
    "  s = 0 \n",
    "  while q % 2 == 0: \n",
    "    q //= 2 \n",
    "    s += 1 \n",
    "  if s == 1: \n",
    "    return pow(n, (p+1) // 4, p)\n",
    "  for z in range(2, p): \n",
    "    if p-1 == legendre_symbol(z, p): \n",
    "      break \n",
    "  c = pow(z, q, p) \n",
    "  r = pow(n, (q+1) // 2, p) \n",
    "  t = pow(n, q, p)\n",
    "  m = s \n",
    "  t2 = 0 \n",
    "\n",
    "  while (t-1) % p != 0: \n",
    "    t2 = (t*t) % p \n",
    "    for i in range(1, m): \n",
    "      if (t2 - 1) % p == 0: \n",
    "        break \n",
    "      t2 = (t2 * t2) % p \n",
    "    b = pow(c, 1 << (m - i - 1), p)\n",
    "    r = (r * b) % p \n",
    "    c = (b * b) % p \n",
    "    t = (t * c) % p \n",
    "    m = i \n",
    "  return r "
   ]
  },
  {
   "cell_type": "code",
   "execution_count": 179,
   "metadata": {},
   "outputs": [],
   "source": [
    "def quadratic_residues(p): \n",
    "  y = list() \n",
    "  for i in range(p): \n",
    "    y.append(i**2 % p)\n",
    "  return set(y)"
   ]
  },
  {
   "cell_type": "code",
   "execution_count": 217,
   "metadata": {},
   "outputs": [],
   "source": [
    "def double(x, y, a, p):\n",
    "  lambd = (((3 * x**2) % p ) *  pow(2 * y, -1, p)) % p\n",
    "  newx = (lambd**2 - 2 * x) % p\n",
    "  newy = (-lambd * newx + lambd * x - y) % p\n",
    "  return (newx, newy)\n",
    "\n",
    "def add_points(xq, yq, xp, yp, p, a=0):\n",
    "  if xq == yq == None:\n",
    "    return xp, yp\n",
    "  if xp == yp == None:\n",
    "    return xq, yq\n",
    "\n",
    "  assert (xq**3 + 3) % p == (yq ** 2) % p, \"q not on curve\"\n",
    "  assert (xp**3 + 3) % p == (yp ** 2) % p, \"p not on curve\"\n",
    "\n",
    "  if xq == xp and yq == yp:\n",
    "    return double(xq, yq, a, p)\n",
    "  elif xq == xp:\n",
    "    return None, None\n",
    "\n",
    "  lambd = ((yq - yp) * pow((xq - xp), -1, p) ) % p\n",
    "  xr = (lambd**2 - xp - xq) % p\n",
    "  yr = (lambd*(xp - xr) - yp) % p\n",
    "  return xr, yr\n",
    "\n",
    "\n",
    "def count_points_on_curve(a, b, p):\n",
    "    \"\"\"Count the number of points on the elliptic curve y^2 = x^3 + ax + b over F_p.\"\"\"\n",
    "    if p < 2 or pow(4 * a**3 + 27 * b**2, 1, p) == 0:  # Check if curve is singular\n",
    "        raise ValueError(\"Invalid curve: singular or p too small.\")\n",
    "    \n",
    "    points = 1  # Include the point at infinity\n",
    "    for x in range(p):\n",
    "        # Compute y^2 = x^3 + ax + b mod p\n",
    "        y_squared = (x**3 + a * x + b) % p\n",
    "        if legendre_symbol(y_squared, p) == 1:\n",
    "            # If y^2 is a quadratic residue, there are two points (x, y), (x, -y) unless y = 0\n",
    "            if y_squared == 0:\n",
    "                points += 1\n",
    "            else:\n",
    "                points += 2\n",
    "    return points"
   ]
  },
  {
   "cell_type": "code",
   "execution_count": 222,
   "metadata": {},
   "outputs": [
    {
     "data": {
      "text/plain": [
       "49"
      ]
     },
     "execution_count": 222,
     "metadata": {},
     "output_type": "execute_result"
    }
   ],
   "source": [
    "count_points_on_curve(a, b, 43)"
   ]
  },
  {
   "cell_type": "code",
   "execution_count": 210,
   "metadata": {},
   "outputs": [],
   "source": [
    "# y^2 = x^3 + a*x + b mod p \n",
    "\n",
    "a = 0\n",
    "b = 3\n",
    "p = 11\n",
    "\n",
    "x = np.arange(p)"
   ]
  },
  {
   "cell_type": "code",
   "execution_count": 211,
   "metadata": {},
   "outputs": [
    {
     "name": "stdout",
     "output_type": "stream",
     "text": [
      "{0, 1, 3, 4, 5, 9}\n"
     ]
    }
   ],
   "source": [
    "assert 0 > (-16 * (4 * a**3 + 27 * b**2)), \"not negative\"\n",
    "\n",
    "coords = list()\n",
    "qr = quadratic_residues(p)\n",
    "print(qr)\n",
    "for i in range(p): \n",
    "  out = (i**3 + a*i + b) % p\n",
    "  if out in qr: \n",
    "    if out != 0: \n",
    "      sq_root = tonelli(out, p)\n",
    "    else: \n",
    "      sq_root = 0 \n",
    "    coords.append([i, sq_root])\n",
    "    coords.append([i, p - sq_root])"
   ]
  },
  {
   "cell_type": "code",
   "execution_count": 212,
   "metadata": {},
   "outputs": [
    {
     "data": {
      "text/plain": [
       "<matplotlib.collections.PathCollection at 0x1208ea110>"
      ]
     },
     "execution_count": 212,
     "metadata": {},
     "output_type": "execute_result"
    },
    {
     "data": {
      "image/png": "[encoded data removed]",
      "text/plain": [
       "<Figure size 640x480 with 1 Axes>"
      ]
     },
     "metadata": {},
     "output_type": "display_data"
    }
   ],
   "source": [
    "plt.scatter(np.asarray(coords)[:, 0], np.asarray(coords)[:, 1])"
   ]
  },
  {
   "cell_type": "code",
   "execution_count": 207,
   "metadata": {},
   "outputs": [
    {
     "data": {
      "text/plain": [
       "(42, [14, 41])"
      ]
     },
     "execution_count": 207,
     "metadata": {},
     "output_type": "execute_result"
    }
   ],
   "source": [
    "len(coords), coords[11]"
   ]
  },
  {
   "cell_type": "code",
   "execution_count": 215,
   "metadata": {},
   "outputs": [
    {
     "name": "stdout",
     "output_type": "stream",
     "text": [
      "1 4 10\n",
      "1 7 7\n",
      "2 1 9\n",
      "3 0 6\n",
      "4 8 8\n",
      "5 2 0\n",
      "6 8 3\n",
      "7 0 5\n",
      "8 1 2\n",
      "9 7 4\n",
      "10 4 1\n",
      "11 None None\n",
      "12 4 10\n"
     ]
    }
   ],
   "source": [
    "next_x, next_y = 4, 10\n",
    "print(1, next_x, next_y)\n",
    "points = [(next_x, next_y)]\n",
    "\n",
    "for i in range(1, p+2): \n",
    "  next_x, next_y = add_points(next_x, next_y, 4, 10, p)\n",
    "  print(i, next_x, next_y) \n",
    "  points.append((next_x, next_y))"
   ]
  },
  {
   "cell_type": "code",
   "execution_count": 216,
   "metadata": {},
   "outputs": [
    {
     "data": {
      "text/plain": [
       "<matplotlib.collections.PathCollection at 0x1209483a0>"
      ]
     },
     "execution_count": 216,
     "metadata": {},
     "output_type": "execute_result"
    },
    {
     "data": {
      "image/png": "[encoded data removed]",
      "text/plain": [
       "<Figure size 640x480 with 1 Axes>"
      ]
     },
     "metadata": {},
     "output_type": "display_data"
    }
   ],
   "source": [
    "plt.scatter(np.asarray(points)[:, 0], np.asarray(points)[:, 1])"
   ]
  }
 ],
 "metadata": {
  "kernelspec": {
   "display_name": "AI310",
   "language": "python",
   "name": "python3"
  },
  "language_info": {
   "codemirror_mode": {
    "name": "ipython",
    "version": 3
   },
   "file_extension": ".py",
   "mimetype": "text/x-python",
   "name": "python",
   "nbconvert_exporter": "python",
   "pygments_lexer": "ipython3",
   "version": "3.10.16"
  }
 },
 "nbformat": 4,
 "nbformat_minor": 2
}
