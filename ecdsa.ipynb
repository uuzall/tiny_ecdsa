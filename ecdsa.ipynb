{
 "cells": [
  {
   "cell_type": "code",
   "execution_count": 670,
   "metadata": {},
   "outputs": [],
   "source": [
    "import matplotlib.pyplot as plt \n",
    "import numpy as np \n",
    "import hashlib "
   ]
  },
  {
   "cell_type": "code",
   "execution_count": 1007,
   "metadata": {},
   "outputs": [],
   "source": [
    "def legendre_symbol(a, p):\n",
    "  return pow(a, (p - 1) // 2, p)\n",
    "\n",
    "def tonelli(n, p): \n",
    "  q = p - 1\n",
    "  s = 0 \n",
    "  while q % 2 == 0: \n",
    "    q //= 2 \n",
    "    s += 1 \n",
    "  if s == 1: \n",
    "    return pow(n, (p+1) // 4, p)\n",
    "  for z in range(2, p): \n",
    "    if p-1 == legendre_symbol(z, p): \n",
    "      break \n",
    "  c = pow(z, q, p) \n",
    "  r = pow(n, (q+1) // 2, p) \n",
    "  t = pow(n, q, p)\n",
    "  m = s \n",
    "  t2 = 0 \n",
    "\n",
    "  while (t-1) % p != 0: \n",
    "    t2 = (t*t) % p \n",
    "    for i in range(1, m): \n",
    "      if (t2 - 1) % p == 0: \n",
    "        break \n",
    "      t2 = (t2 * t2) % p \n",
    "    b = pow(c, 1 << (m - i - 1), p)\n",
    "    r = (r * b) % p \n",
    "    c = (b * b) % p \n",
    "    t = (t * c) % p \n",
    "    m = i \n",
    "  return r "
   ]
  },
  {
   "cell_type": "code",
   "execution_count": 1008,
   "metadata": {},
   "outputs": [],
   "source": [
    "def quadratic_residues(p): \n",
    "  y = list() \n",
    "  for i in range(p): \n",
    "    y.append(i**2 % p)\n",
    "  return set(y)"
   ]
  },
  {
   "cell_type": "code",
   "execution_count": 1009,
   "metadata": {},
   "outputs": [],
   "source": [
    "def double(x, y, a, p):\n",
    "  lambd = (((3 * x**2) % p ) *  pow(2 * y, -1, p)) % p\n",
    "  newx = (lambd**2 - 2 * x) % p\n",
    "  newy = (-lambd * newx + lambd * x - y) % p\n",
    "  return (newx, newy)\n",
    "\n",
    "def add_points(xq, yq, xp, yp, p, a, b):\n",
    "  if xq == yq == None:\n",
    "    return xp, yp\n",
    "  if xp == yp == None:\n",
    "    return xq, yq\n",
    "\n",
    "  assert (xq**3 + b) % p == (yq ** 2) % p, \"q not on curve\"\n",
    "  assert (xp**3 + b) % p == (yp ** 2) % p, \"p not on curve\"\n",
    "\n",
    "  if xq == xp and yq == yp:\n",
    "    return double(xq, yq, a, p)\n",
    "  elif xq == xp:\n",
    "    return None, None\n",
    "\n",
    "  lambd = ((yq - yp) * pow((xq - xp), -1, p) ) % p\n",
    "  xr = (lambd**2 - xp - xq) % p\n",
    "  yr = (lambd*(xp - xr) - yp) % p\n",
    "  return xr, yr\n",
    "\n",
    "\n",
    "def count_points_on_curve(a, b, p):\n",
    "    \"\"\"Count the number of points on the elliptic curve y^2 = x^3 + ax + b over F_p.\"\"\"\n",
    "    if p < 2 or pow(4 * a**3 + 27 * b**2, 1, p) == 0:  # Check if curve is singular\n",
    "        raise ValueError(\"Invalid curve: singular or p too small.\")\n",
    "    \n",
    "    points = 1  # Include the point at infinity\n",
    "    for x in range(p):\n",
    "        # Compute y^2 = x^3 + ax + b mod p\n",
    "        y_squared = (x**3 + a * x + b) % p\n",
    "        if legendre_symbol(y_squared, p) == 1:\n",
    "            # If y^2 is a quadratic residue, there are two points (x, y), (x, -y) unless y = 0\n",
    "            if y_squared == 0:\n",
    "                points += 1\n",
    "            else:\n",
    "                points += 2\n",
    "    return points\n",
    "\n",
    "def mod_inverse(a, p):\n",
    "    \"\"\"Compute the modular inverse of a modulo p using the extended Euclidean algorithm.\"\"\"\n",
    "    if a == 0:\n",
    "        return None  # No inverse exists\n",
    "    def extended_gcd(a, b):\n",
    "        if a == 0:\n",
    "            return b, 0, 1\n",
    "        gcd, x1, y1 = extended_gcd(b % a, a)\n",
    "        x = y1 - (b // a) * x1\n",
    "        y = x1\n",
    "        return gcd, x, y\n",
    "    \n",
    "    gcd, x, _ = extended_gcd(a, p)\n",
    "    if gcd != 1:\n",
    "        return None  # No inverse exists\n",
    "    return (x % p + p) % p"
   ]
  },
  {
   "cell_type": "code",
   "execution_count": 1010,
   "metadata": {},
   "outputs": [
    {
     "data": {
      "text/plain": [
       "5393"
      ]
     },
     "execution_count": 1010,
     "metadata": {},
     "output_type": "execute_result"
    }
   ],
   "source": [
    "count_points_on_curve(a, b, 5393)"
   ]
  },
  {
   "cell_type": "code",
   "execution_count": 1011,
   "metadata": {},
   "outputs": [],
   "source": [
    "# y^2 = x^3 + a*x + b mod p \n",
    "\n",
    "a = 0\n",
    "b = 7\n",
    "p = 43 #5393\n",
    "\n",
    "# x = np.arange(count_points_on_curve(a, b, p))"
   ]
  },
  {
   "cell_type": "code",
   "execution_count": 1012,
   "metadata": {},
   "outputs": [
    {
     "name": "stdout",
     "output_type": "stream",
     "text": [
      "{0, 1, 4, 6, 9, 10, 11, 13, 14, 15, 16, 17, 21, 23, 24, 25, 31, 35, 36, 38, 40, 41}\n"
     ]
    }
   ],
   "source": [
    "assert 0 > (-16 * (4 * a**3 + 27 * b**2)), \"not negative\"\n",
    "\n",
    "coords = list()\n",
    "qr = quadratic_residues(p)\n",
    "print(qr)\n",
    "for i in range(p): \n",
    "  out = (i**3 + a*i + b) % p\n",
    "  if out in qr: \n",
    "    if out != 0: \n",
    "      sq_root = tonelli(out, p)\n",
    "    else: \n",
    "      sq_root = 0 \n",
    "    coords.append([i, sq_root])\n",
    "    coords.append([i, p - sq_root])"
   ]
  },
  {
   "cell_type": "code",
   "execution_count": 1013,
   "metadata": {},
   "outputs": [
    {
     "data": {
      "text/plain": [
       "<matplotlib.collections.PathCollection at 0x123ac83d0>"
      ]
     },
     "execution_count": 1013,
     "metadata": {},
     "output_type": "execute_result"
    },
    {
     "data": {
      "image/png": "[encoded data removed]",
      "text/plain": [
       "<Figure size 640x480 with 1 Axes>"
      ]
     },
     "metadata": {},
     "output_type": "display_data"
    }
   ],
   "source": [
    "plt.scatter(np.asarray(coords)[:, 0], np.asarray(coords)[:, 1])"
   ]
  },
  {
   "cell_type": "code",
   "execution_count": 1014,
   "metadata": {},
   "outputs": [
    {
     "data": {
      "text/plain": [
       "(30, [21, 18])"
      ]
     },
     "execution_count": 1014,
     "metadata": {},
     "output_type": "execute_result"
    }
   ],
   "source": [
    "len(coords), coords[11]"
   ]
  },
  {
   "cell_type": "code",
   "execution_count": 1015,
   "metadata": {},
   "outputs": [],
   "source": [
    "next_x, next_y = coords[0][0], coords[0][1]\n",
    "points = [(next_x, next_y)]\n",
    "\n",
    "for i in range(1, p+2): \n",
    "  next_x, next_y = add_points(next_x, next_y, coords[0][0], coords[0][1], p, a, b)\n",
    "  points.append((next_x, next_y))"
   ]
  },
  {
   "cell_type": "code",
   "execution_count": 1016,
   "metadata": {},
   "outputs": [
    {
     "data": {
      "text/plain": [
       "31"
      ]
     },
     "execution_count": 1016,
     "metadata": {},
     "output_type": "execute_result"
    }
   ],
   "source": [
    "len(set(points))"
   ]
  },
  {
   "cell_type": "code",
   "execution_count": 1017,
   "metadata": {},
   "outputs": [
    {
     "data": {
      "text/plain": [
       "<matplotlib.collections.PathCollection at 0x123c502e0>"
      ]
     },
     "execution_count": 1017,
     "metadata": {},
     "output_type": "execute_result"
    },
    {
     "data": {
      "image/png": "[encoded data removed]",
      "text/plain": [
       "<Figure size 640x480 with 1 Axes>"
      ]
     },
     "metadata": {},
     "output_type": "display_data"
    }
   ],
   "source": [
    "plt.scatter(np.asarray(points)[:, 0], np.asarray(points)[:, 1])"
   ]
  },
  {
   "cell_type": "code",
   "execution_count": 1048,
   "metadata": {},
   "outputs": [
    {
     "name": "stdout",
     "output_type": "stream",
     "text": [
      "elliptic curve eqn: y^2 = x^3 + 0*x + 7 (mod 43)\n",
      "private key (d): 26\n",
      "public key: (12, 12)\n"
     ]
    }
   ],
   "source": [
    "### Lets make a private and public key \n",
    "print(f'elliptic curve eqn: y^2 = x^3 + {a}*x + {b} (mod {p})')\n",
    "\n",
    "G = (coords[0][0], coords[0][1])\n",
    "n = len(set(points)) #count_points_on_curve(a, b, p) # using Hesse's Theorem \n",
    "h = 1 \n",
    "\n",
    "next_x, next_y = None, None \n",
    "\n",
    "while next_x == None or next_y == None: \n",
    "  d = np.random.randint(1, n-1)\n",
    "  next_x, next_y = G[0], G[1]\n",
    "  for i in range(d-1): \n",
    "    next_x, next_y = add_points(next_x, next_y, G[0], G[1], p, a, b)\n",
    "\n",
    "  if next_x == None or next_y == None: \n",
    "    next_x, next_y = G[0], G[1]\n",
    "\n",
    "print(f'private key (d): {d}')\n",
    "print(f'public key: ({next_x}, {next_y})') \n",
    "# private_key = (next_x**3 + a * next_x + b) % p \n",
    "# print(f'public key: {private_key}')"
   ]
  },
  {
   "cell_type": "code",
   "execution_count": 1049,
   "metadata": {},
   "outputs": [
    {
     "name": "stdout",
     "output_type": "stream",
     "text": [
      "12 27\n"
     ]
    }
   ],
   "source": [
    "m = b\"Dudu Tech\"\n",
    "e = int.from_bytes(hashlib.sha256(m).digest(), byteorder='big') % n\n",
    "\n",
    "r = 0\n",
    "s = 0 \n",
    "while r == 0 or s == 0 or r == None or s == None: \n",
    "  k = np.random.randint(1, n-1)\n",
    "  n_x, n_y = G[0], G[1]\n",
    "\n",
    "  # k.G \n",
    "  for i in range(k-1): \n",
    "    n_x, n_y = add_points(n_x, n_y, G[0], G[1], p, a, b)\n",
    "\n",
    "  r = n_x % n \n",
    "\n",
    "  # if r == 0: continue\n",
    "\n",
    "  # s = (mod_inverse(k, n) * ((e)%n + (d*r)%n)) % n\n",
    "  s = (pow(k, -1, n) * ((e)%n + (d*r)%n)) % n\n",
    "  # if s == 0: continue \n",
    "\n",
    "print(r, s)"
   ]
  },
  {
   "cell_type": "code",
   "execution_count": 1050,
   "metadata": {},
   "outputs": [
    {
     "data": {
      "text/plain": [
       "(True, 12, 12)"
      ]
     },
     "execution_count": 1050,
     "metadata": {},
     "output_type": "execute_result"
    }
   ],
   "source": [
    "Q = (next_x, next_y) # public key\n",
    "\n",
    "# w = mod_inverse(s, n)\n",
    "w = pow(s, -1, n)\n",
    "\n",
    "u1 = (e * w) % n\n",
    "u2 = (r * w) % n\n",
    "\n",
    "u1Gx, u1Gy = G[0], G[1]\n",
    "for _ in range(u1-1): \n",
    "  u1Gx, u1Gy = add_points(u1Gx, u1Gy, G[0], G[1], p, a, b)\n",
    "\n",
    "u2Qx, u2Qy = Q[0], Q[1]\n",
    "for _ in range(u2-1): \n",
    "  u2Qx, u2Qy = add_points(u2Qx, u2Qy, Q[0], Q[1], p, a, b)\n",
    "\n",
    "x_v, y_v = add_points(u1Gx, u1Gy, u2Qx, u2Qy, p, a, b)\n",
    "\n",
    "v = x_v % n\n",
    "\n",
    "v == r, v, r"
   ]
  }
 ],
 "metadata": {
  "kernelspec": {
   "display_name": "AI310",
   "language": "python",
   "name": "python3"
  },
  "language_info": {
   "codemirror_mode": {
    "name": "ipython",
    "version": 3
   },
   "file_extension": ".py",
   "mimetype": "text/x-python",
   "name": "python",
   "nbconvert_exporter": "python",
   "pygments_lexer": "ipython3",
   "version": "3.10.16"
  }
 },
 "nbformat": 4,
 "nbformat_minor": 2
}
