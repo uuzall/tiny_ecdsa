{
 "cells": [
  {
   "cell_type": "code",
   "execution_count": 1,
   "metadata": {},
   "outputs": [],
   "source": [
    "import matplotlib.pyplot as plt \n",
    "import numpy as np \n",
    "import hashlib"
   ]
  },
  {
   "cell_type": "code",
   "execution_count": 299,
   "metadata": {},
   "outputs": [],
   "source": [
    "def legendre_symbol(a, p):\n",
    "  return pow(a, (p - 1) // 2, p)\n",
    "\n",
    "def tonelli(n, p): \n",
    "  q = p - 1\n",
    "  s = 0 \n",
    "  while q % 2 == 0: \n",
    "    q //= 2 \n",
    "    s += 1 \n",
    "  if s == 1: \n",
    "    return pow(n, (p+1) // 4, p)\n",
    "  for z in range(2, p): \n",
    "    if p-1 == legendre_symbol(z, p): \n",
    "      break \n",
    "  c = pow(z, q, p) \n",
    "  r = pow(n, (q+1) // 2, p) \n",
    "  t = pow(n, q, p)\n",
    "  m = s \n",
    "  t2 = 0 \n",
    "\n",
    "  while (t-1) % p != 0: \n",
    "    t2 = (t*t) % p \n",
    "    for i in range(1, m): \n",
    "      if (t2 - 1) % p == 0: \n",
    "        break \n",
    "      t2 = (t2 * t2) % p \n",
    "    b = pow(c, 1 << (m - i - 1), p)\n",
    "    r = (r * b) % p \n",
    "    c = (b * b) % p \n",
    "    t = (t * c) % p \n",
    "    m = i \n",
    "  return r \n",
    "\n",
    "def quadratic_residues(p): \n",
    "  y = list() \n",
    "  for i in range(p): \n",
    "    y.append(i**2 % p)\n",
    "  return set(y)\n",
    "\n",
    "def double(x, y, a, p):\n",
    "  lambd = (((3 * x**2) % p ) *  pow(2 * y, -1, p)) % p\n",
    "  newx = (lambd**2 - 2 * x) % p\n",
    "  newy = (-lambd * newx + lambd * x - y) % p\n",
    "  return (newx, newy)\n",
    "\n",
    "def add_points(xq, yq, xp, yp, p, a, b):\n",
    "  if xq == yq == None:\n",
    "    return xp, yp\n",
    "  if xp == yp == None:\n",
    "    return xq, yq\n",
    "\n",
    "  assert (xq**3 + b) % p == (yq ** 2) % p, \"q not on curve\"\n",
    "  assert (xp**3 + b) % p == (yp ** 2) % p, \"p not on curve\"\n",
    "\n",
    "  if xq == xp and yq == yp:\n",
    "    return double(xq, yq, a, p)\n",
    "  elif xq == xp:\n",
    "    return None, None\n",
    "\n",
    "  lambd = ((yq - yp) * pow((xq - xp), -1, p) ) % p\n",
    "  xr = (lambd**2 - xp - xq) % p\n",
    "  yr = (lambd*(xp - xr) - yp) % p\n",
    "  return xr, yr\n",
    "\n",
    "\n",
    "def count_points_on_curve(a, b, p):\n",
    "    \"\"\"Count the number of points on the elliptic curve y^2 = x^3 + ax + b over F_p.\"\"\"\n",
    "    if p < 2 or pow(4 * a**3 + 27 * b**2, 1, p) == 0:  # Check if curve is singular\n",
    "        raise ValueError(\"Invalid curve: singular or p too small.\")\n",
    "\n",
    "    points = 1  # Include the point at infinity\n",
    "    for x in range(p):\n",
    "        # Compute y^2 = x^3 + ax + b mod p\n",
    "        y_squared = (x**3 + a * x + b) % p\n",
    "        if legendre_symbol(y_squared, p) == 1:\n",
    "            # If y^2 is a quadratic residue, there are two points (x, y), (x, -y) unless y = 0\n",
    "            if y_squared == 0:\n",
    "                points += 1\n",
    "            else:\n",
    "                points += 2\n",
    "    return points\n",
    "\n",
    "def mod_inverse(a, p):\n",
    "    \"\"\"Compute the modular inverse of a modulo p using the extended Euclidean algorithm.\"\"\"\n",
    "    if a == 0:\n",
    "        return None  # No inverse exists\n",
    "    def extended_gcd(a, b):\n",
    "        if a == 0:\n",
    "            return b, 0, 1\n",
    "        gcd, x1, y1 = extended_gcd(b % a, a)\n",
    "        x = y1 - (b // a) * x1\n",
    "        y = x1\n",
    "        return gcd, x, y\n",
    "    \n",
    "    gcd, x, _ = extended_gcd(a, p)\n",
    "    if gcd != 1:\n",
    "        return None  # No inverse exists\n",
    "    return (x % p + p) % p"
   ]
  },
  {
   "cell_type": "code",
   "execution_count": 300,
   "metadata": {},
   "outputs": [
    {
     "name": "stdout",
     "output_type": "stream",
     "text": [
      "{0, 1, 4, 6, 9, 10, 11, 13, 14, 15, 16, 17, 21, 23, 24, 25, 31, 35, 36, 38, 40, 41}\n"
     ]
    },
    {
     "data": {
      "text/plain": [
       "<matplotlib.collections.PathCollection at 0x10ec96320>"
      ]
     },
     "execution_count": 300,
     "metadata": {},
     "output_type": "execute_result"
    },
    {
     "data": {
      "image/png": "[encoded data removed]",
      "text/plain": [
       "<Figure size 640x480 with 1 Axes>"
      ]
     },
     "metadata": {},
     "output_type": "display_data"
    }
   ],
   "source": [
    "# y^2 = x^3 + a*x + b mod p \n",
    "\n",
    "a = 0\n",
    "b = 7\n",
    "p = 43 \n",
    "\n",
    "assert 0 > (-16 * (4 * a**3 + 27 * b**2)), \"not negative\"\n",
    "\n",
    "coords = list()\n",
    "qr = quadratic_residues(p)\n",
    "print(qr)\n",
    "for i in range(p): \n",
    "  out = (i**3 + a*i + b) % p\n",
    "  if out in qr: \n",
    "    if out != 0: \n",
    "      sq_root = tonelli(out, p)\n",
    "    else: \n",
    "      sq_root = 0 \n",
    "    coords.append([i, sq_root])\n",
    "    coords.append([i, p - sq_root])\n",
    "\n",
    "next_x, next_y = coords[0][0], coords[0][1]\n",
    "points = [(next_x, next_y)]\n",
    "\n",
    "for i in range(1, p+2): \n",
    "  next_x, next_y = add_points(next_x, next_y, coords[0][0], coords[0][1], p, a, b)\n",
    "  points.append((next_x, next_y))\n",
    "\n",
    "len(set(points))\n",
    "plt.scatter(np.asarray(points)[:, 0], np.asarray(points)[:, 1])"
   ]
  },
  {
   "cell_type": "code",
   "execution_count": 447,
   "metadata": {},
   "outputs": [
    {
     "name": "stdout",
     "output_type": "stream",
     "text": [
      "private keys [39 30 35 11  1]\n",
      "master secret: 27\n",
      "public key: (35, 21)\n",
      "check public key: [(34, 40)]\n"
     ]
    }
   ],
   "source": [
    "# 1. Distributed Key Generation \n",
    "# Input \n",
    "n = 5 # no. of participants \n",
    "t = 3 # threshold to accept signature \n",
    "G = coords[0][0], coords[0][1]\n",
    "\n",
    "# polynomial generation\n",
    "def generate_polynomial(t, n): \n",
    "  # a0 + a1*x + a2*x^2\n",
    "  coeff = np.random.randint(0, p, size=(t))\n",
    "  # x^0 + x^1 + x^2\n",
    "  x_power = np.arange(t)\n",
    "\n",
    "  shares = list() \n",
    "  # out = np.zeros((j, j))\n",
    "  # for each person \n",
    "  for j in range(1, n+1): \n",
    "    # [1, 1, 1] * [1, 2, 3]\n",
    "    x = np.ones(x_power.size) * j \n",
    "    # out[j][0] = x[0]\n",
    "    # [2, 2, 2] ** [0, 1, 2]\n",
    "    # 1 + 2 + 2^2\n",
    "    # _ + x + x^2\n",
    "    out = x ** x_power\n",
    "    # a0 * 1 + a1 * 2 + a2 * 2^2\n",
    "    out = coeff * out\n",
    "    out %= p\n",
    "    out = out.sum() % p\n",
    "    shares.append(out.astype(int))\n",
    "  \n",
    "  # \n",
    "  # for j in range(n): \n",
    "  # check to see if public key is correct \n",
    "  a_i0 = coeff[0]\n",
    "\n",
    "  new_x, new_y = G[0], G[1]\n",
    "  for _ in range(a_i0): \n",
    "    new_x, new_y = add_points(new_x, new_y, G[0], G[1], p, a, b)\n",
    "\n",
    "  return shares, (new_x, new_y)\n",
    "\n",
    "shares = np.zeros((n, n))\n",
    "check = [0] * 5\n",
    "\n",
    "for participant_id in range(n): \n",
    "  # generate_polynomial is all done by 1 person\n",
    "  shares[participant_id], check[participant_id] = generate_polynomial(t, n)\n",
    "\n",
    "shares_per_person = shares.T\n",
    "private_keys = (shares_per_person.sum(1) % p).astype(int)\n",
    "\n",
    "print(f'private keys {private_keys}')\n",
    "master_secret = int(shares[0].sum() % p)\n",
    "print(f'master secret: {master_secret}')\n",
    "\n",
    "new_x, new_y = G[0], G[1]\n",
    "for _ in range(master_secret): \n",
    "  new_x, new_y = add_points(new_x, new_y, G[0], G[1], p, a, b)\n",
    "\n",
    "print(f'public key: {new_x, new_y}')\n",
    "\n",
    "# print('shares', shares)\n",
    "# for i in range(n): \n",
    "#   A_x, A_y = 0, 0 \n",
    "#   temp = list() \n",
    "#   new_x, new_y = G[0], G[1]\n",
    "#   for _ in range(int(shares[0][i])): \n",
    "#     new_x, new_y = add_points(new_x, new_y, G[0], G[1], p, a, b)\n",
    "#   temp.append((new_x, new_y))\n",
    "#   if len(temp) == 2: \n",
    "#     temp = [add_points(temp[0][0], temp[0][1], temp[1][0], temp[1][1], p, a, b)]\n",
    "\n",
    "# print(temp)\n",
    "\n",
    "new_check = check.copy()\n",
    "while len(new_check) != 1: \n",
    "  new_x, new_y = add_points(new_check[0][0], new_check[0][1], new_check[1][0], new_check[1][1], p, a, b)\n",
    "  new_check = [(new_x, new_y)] + new_check[2:]\n",
    "\n",
    "print(f'check public key: {new_check}')\n",
    "\n",
    "# test to see if it is correct "
   ]
  },
  {
   "cell_type": "code",
   "execution_count": 310,
   "metadata": {},
   "outputs": [
    {
     "data": {
      "text/plain": [
       "[(2, 31)]"
      ]
     },
     "execution_count": 310,
     "metadata": {},
     "output_type": "execute_result"
    }
   ],
   "source": [
    "new_check"
   ]
  },
  {
   "cell_type": "code",
   "execution_count": 292,
   "metadata": {},
   "outputs": [
    {
     "data": {
      "text/plain": [
       "[1, 2, 3, 4]"
      ]
     },
     "execution_count": 292,
     "metadata": {},
     "output_type": "execute_result"
    }
   ],
   "source": [
    "[1, 2] + [3, 4]"
   ]
  },
  {
   "cell_type": "code",
   "execution_count": 291,
   "metadata": {},
   "outputs": [
    {
     "data": {
      "text/plain": [
       "[(7, 36), (7, 36), (7, 36), (7, 36), (7, 36)]"
      ]
     },
     "execution_count": 291,
     "metadata": {},
     "output_type": "execute_result"
    }
   ],
   "source": [
    "check"
   ]
  },
  {
   "cell_type": "code",
   "execution_count": 286,
   "metadata": {},
   "outputs": [
    {
     "data": {
      "text/plain": [
       "[0, 0, 0, 0, 0]"
      ]
     },
     "execution_count": 286,
     "metadata": {},
     "output_type": "execute_result"
    }
   ],
   "source": [
    "[0] * 5"
   ]
  },
  {
   "cell_type": "code",
   "execution_count": 280,
   "metadata": {},
   "outputs": [
    {
     "data": {
      "text/plain": [
       "array([[3., 4., 3., 0., 0.],\n",
       "       [0., 4., 4., 0., 2.],\n",
       "       [4., 1., 4., 3., 3.],\n",
       "       [2., 0., 4., 4., 0.],\n",
       "       [3., 3., 4., 1., 4.]])"
      ]
     },
     "execution_count": 280,
     "metadata": {},
     "output_type": "execute_result"
    }
   ],
   "source": [
    "shares"
   ]
  },
  {
   "cell_type": "code",
   "execution_count": 252,
   "metadata": {},
   "outputs": [
    {
     "data": {
      "text/plain": [
       "array([[3., 4., 3., 0., 0.],\n",
       "       [0., 4., 2., 4., 0.],\n",
       "       [2., 0., 2., 3., 3.],\n",
       "       [4., 0., 1., 2., 3.],\n",
       "       [2., 4., 4., 2., 3.]])"
      ]
     },
     "execution_count": 252,
     "metadata": {},
     "output_type": "execute_result"
    }
   ],
   "source": [
    "shares"
   ]
  },
  {
   "cell_type": "code",
   "execution_count": 27,
   "metadata": {},
   "outputs": [
    {
     "data": {
      "text/plain": [
       "array([2, 4, 8])"
      ]
     },
     "execution_count": 27,
     "metadata": {},
     "output_type": "execute_result"
    }
   ],
   "source": [
    "np.array([2, 2, 2]) ** np.array([1, 2, 3])"
   ]
  },
  {
   "cell_type": "code",
   "execution_count": 7,
   "metadata": {},
   "outputs": [
    {
     "data": {
      "text/plain": [
       "(2, 31)"
      ]
     },
     "execution_count": 7,
     "metadata": {},
     "output_type": "execute_result"
    }
   ],
   "source": [
    "G"
   ]
  }
 ],
 "metadata": {
  "kernelspec": {
   "display_name": "AI310",
   "language": "python",
   "name": "python3"
  },
  "language_info": {
   "codemirror_mode": {
    "name": "ipython",
    "version": 3
   },
   "file_extension": ".py",
   "mimetype": "text/x-python",
   "name": "python",
   "nbconvert_exporter": "python",
   "pygments_lexer": "ipython3",
   "version": "3.10.16"
  }
 },
 "nbformat": 4,
 "nbformat_minor": 2
}
